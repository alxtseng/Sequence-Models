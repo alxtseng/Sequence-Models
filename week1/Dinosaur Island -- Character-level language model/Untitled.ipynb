{
 "cells": [
  {
   "cell_type": "code",
   "execution_count": 1,
   "metadata": {},
   "outputs": [
    {
     "name": "stdout",
     "output_type": "stream",
     "text": [
      "Dinosaurus Island -- Character level language model final - v3.ipynb\n",
      "Dinosaurus_Island_Character_level_language_model_final_v3a.ipynb\n",
      "Dinosaurus_Island_Character_level_language_model_final_v3b.ipynb\n",
      "Untitled.ipynb\n",
      "__pycache__/\n",
      "__pycache__/utils.cpython-36.pyc\n",
      "__pycache__/shakespeare_utils.cpython-36.pyc\n",
      "dinos.txt\n",
      "images/\n",
      "images/rnn.png\n",
      "images/mangosaurus.jpeg\n",
      "images/dino.jpg\n",
      "images/dinos3.png\n",
      "images/shakespeare.jpg\n",
      "images/clip.png\n",
      "models/\n",
      "models/model_shakespeare_kiank.h5\n",
      "models/model_shakespeare_kiank_350_epoch.h5\n",
      "previous versions/\n",
      "previous versions/Dinosaurus Island -- Character level language model final - v2-Copy1.ipynb\n",
      "previous versions/Dinosaurus Island -- Character level language model final - v1.ipynb\n",
      "previous versions/Dinosaurus Island -- Character-level language model - (final) - learners.ipynb\n",
      "previous versions/.ipynb_checkpoints/\n",
      "previous versions/.ipynb_checkpoints/Dinosaurus Island -- Character level language model final - v2-Copy1-checkpoint.ipynb\n",
      "previous versions/.ipynb_checkpoints/Dinosaurus Island -- Character-level language model - (final) - learners-checkpoint.ipynb\n",
      "previous versions/.ipynb_checkpoints/Dinosaurus Island -- Character level language model final - v1-checkpoint.ipynb\n",
      "shakespeare.txt\n",
      "shakespeare_utils.py\n",
      "utils.py\n"
     ]
    }
   ],
   "source": [
    "!tar cvfz allfiles.tar.gz *"
   ]
  },
  {
   "cell_type": "code",
   "execution_count": null,
   "metadata": {
    "collapsed": true
   },
   "outputs": [],
   "source": []
  }
 ],
 "metadata": {
  "kernelspec": {
   "display_name": "Python 3",
   "language": "python",
   "name": "python3"
  },
  "language_info": {
   "codemirror_mode": {
    "name": "ipython",
    "version": 3
   },
   "file_extension": ".py",
   "mimetype": "text/x-python",
   "name": "python",
   "nbconvert_exporter": "python",
   "pygments_lexer": "ipython3",
   "version": "3.6.0"
  }
 },
 "nbformat": 4,
 "nbformat_minor": 2
}
