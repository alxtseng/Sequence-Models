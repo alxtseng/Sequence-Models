{
 "cells": [
  {
   "cell_type": "code",
   "execution_count": 1,
   "metadata": {},
   "outputs": [
    {
     "name": "stdout",
     "output_type": "stream",
     "text": [
      "Operations on word vectors - v2.ipynb\n",
      "Operations_on_word_vectors_v2a.ipynb\n",
      "Untitled.ipynb\n",
      "__pycache__/\n",
      "__pycache__/w2v_utils.cpython-36.pyc\n",
      "data/\n",
      "data/glove.6B.50d.txt\n",
      "data/input.txt\n",
      "data/input-Copy1.txt\n",
      "images/\n",
      "images/equalize10.png\n",
      "images/1-hot-vector.png\n",
      "images/cosine_sim.png\n",
      "images/neutralize.png\n",
      "images/neutral.png\n",
      "images/lookup.png\n",
      "images/neutralize_kiank.png\n",
      "previous versions/\n",
      "previous versions/.ipynb_checkpoints/\n",
      "previous versions/.ipynb_checkpoints/Operations on word vectors - v1-checkpoint.ipynb\n",
      "previous versions/Operations on word vectors - v1.ipynb\n",
      "w2v_utils.py\n"
     ]
    }
   ],
   "source": [
    "!tar cvfz allfiles.tar.gz *"
   ]
  },
  {
   "cell_type": "code",
   "execution_count": null,
   "metadata": {
    "collapsed": true
   },
   "outputs": [],
   "source": []
  }
 ],
 "metadata": {
  "kernelspec": {
   "display_name": "Python 3",
   "language": "python",
   "name": "python3"
  },
  "language_info": {
   "codemirror_mode": {
    "name": "ipython",
    "version": 3
   },
   "file_extension": ".py",
   "mimetype": "text/x-python",
   "name": "python",
   "nbconvert_exporter": "python",
   "pygments_lexer": "ipython3",
   "version": "3.6.0"
  }
 },
 "nbformat": 4,
 "nbformat_minor": 2
}
